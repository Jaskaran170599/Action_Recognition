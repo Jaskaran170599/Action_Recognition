{
 "cells": [
  {
   "cell_type": "code",
   "execution_count": 0,
   "metadata": {
    "colab": {},
    "colab_type": "code",
    "id": "CR2MUEaxGFN0"
   },
   "outputs": [],
   "source": [
    "import numpy as np\n",
    "from keras import backend\n",
    "import tensorflow as tf\n",
    "import keras as ks\n",
    "import os\n",
    "import cv2\n",
    "from keras.layers import Conv2D,MaxPool2D,Flatten,Dense,Dropout,GlobalAveragePooling2D,Input,Reshape,Lambda,GRU,LSTM,TimeDistributed"
   ]
  },
  {
   "cell_type": "code",
   "execution_count": 0,
   "metadata": {
    "colab": {},
    "colab_type": "code",
    "id": "SMfuk6JsGFOG"
   },
   "outputs": [],
   "source": [
    "# Download the Dataset\n",
    "# !wget https://ucdcfedc1081bafd8a48fc17451c.dl.dropboxusercontent.com/cd/0/get/ArkPU0wDsLhki-AfQmctuqCTQuXTXunaHMvsEQK5qY_hQ84gPhHLLQgKWOCCthZqbPbf4iyk_q9oHy3GhFu9Ur3A7l5EW_T5m8s6Y4Ijoq_hvA/file?_download_id=5557862267060294899674724915065891683584576254567948294615437415&_notify_domain=www.dropbox.com&dl=1"
   ]
  },
  {
   "cell_type": "code",
   "execution_count": 0,
   "metadata": {
    "colab": {},
    "colab_type": "code",
    "id": "e9AkjHeqHze_"
   },
   "outputs": [],
   "source": [
    "# UNZIP THE DATA\n",
    "# !tar -xvf data"
   ]
  },
  {
   "cell_type": "code",
   "execution_count": 0,
   "metadata": {
    "colab": {},
    "colab_type": "code",
    "id": "7Jvnj1NAVJ3_"
   },
   "outputs": [],
   "source": [
    "# Getting the data directories\n",
    "frames_basket=os.listdir('./data/train/action0')\n",
    "frames_diving=os.listdir('./data/train/action5')\n",
    "val_b=os.listdir('./data/val/action0')\n",
    "val_d=os.listdir('./data/val/action5')\n",
    "test_b=os.listdir('./data/test/action0')\n",
    "test_d=os.listdir('./data/test/action5')"
   ]
  },
  {
   "cell_type": "code",
   "execution_count": 0,
   "metadata": {
    "colab": {},
    "colab_type": "code",
    "id": "Nk9WI8mzJReV"
   },
   "outputs": [],
   "source": [
    "#loading the meta-data in memory \n",
    "def data_prep(frames):\n",
    "  data={}\n",
    "  for i in frames:\n",
    "    scene=i.split(\"_\")[2]\n",
    "    if scene not in data.keys():  \n",
    "      data[scene]={}\n",
    "    clip,fr=i.split(\"_\")[-1].split(\".\")[0:2]\n",
    "    if clip not in data[scene].keys():\n",
    "      data[scene][clip]=[]\n",
    "    data[scene][clip].append(int(fr))\n",
    "\n",
    "  for key in data.keys():\n",
    "    for clip in data[key].keys():\n",
    "      data[key][clip]=sorted(data[key][clip])\n",
    "\n",
    "  return data\n",
    "\n",
    "data_basketball=data_prep(frames_basket)\n",
    "data_diving=data_prep(frames_diving)\n",
    "val_basketball=data_prep(val_b)\n",
    "val_diving=data_prep(val_d)\n",
    "test_basketball=data_prep(test_b)\n",
    "test_diving=data_prep(test_d)"
   ]
  },
  {
   "cell_type": "code",
   "execution_count": 0,
   "metadata": {
    "colab": {
     "base_uri": "https://localhost:8080/",
     "height": 34
    },
    "colab_type": "code",
    "id": "q0FHP4Cnf75m",
    "outputId": "de3754bb-8778-4713-a174-07eee7efc33e"
   },
   "outputs": [
    {
     "data": {
      "text/plain": [
       "(21, 7, 147)"
      ]
     },
     "execution_count": 127,
     "metadata": {
      "tags": []
     },
     "output_type": "execute_result"
    }
   ],
   "source": [
    "len(data_diving.keys()),len(data_diving['g02'].keys()),21*7"
   ]
  },
  {
   "cell_type": "markdown",
   "metadata": {
    "colab_type": "text",
    "id": "0Ty89Jrg2kTu"
   },
   "source": [
    "## processed_data directory structure\n",
    "\n",
    "processed_data                     \n",
    "|  \n",
    "|-----Basketball  \n",
    "|--------|  \n",
    "|--------|---clipone  \n",
    "|--------|---cliptwo  \n",
    "|--------|---clipthree ...  \n",
    "|  \n",
    "|  \n",
    "|------Diving  \n",
    "|--------|  \n",
    "|--------|---clipone  \n",
    "|--------|---cliptwo  \n",
    "|--------|---clipthree ...  \n",
    "|  "
   ]
  },
  {
   "cell_type": "code",
   "execution_count": 0,
   "metadata": {
    "colab": {},
    "colab_type": "code",
    "id": "2Ifn5GTvStX5"
   },
   "outputs": [],
   "source": [
    "#deleting the data\n",
    "# !rm -rf /content/processed_data_train/Basketball\n",
    "# !rm -rf /content/processed_data_train/Diving\n",
    "# !rm -rf /content/processed_val_train/Basketball\n",
    "# !rm -rf /content/processed_val_train/Diving"
   ]
  },
  {
   "cell_type": "code",
   "execution_count": 0,
   "metadata": {
    "colab": {},
    "colab_type": "code",
    "id": "nqQm7Jyxgu0g"
   },
   "outputs": [],
   "source": [
    "#Processing the data \n",
    "\"\"\"Applying Background subtractor and storing the images in the above directory format\"\"\"\n",
    "def process_data(data,category,path,new=0,prim_path=\"./processed_data_train/\"):\n",
    "    if not os.path.exists(prim_path+category+\"/\"):\n",
    "        os.makedirs(prim_path+category+\"/\")\n",
    "    num=0\n",
    "    if new == 1:\n",
    "        num=len(os.listdir(prim_path+category+\"/\"))\n",
    "    for key in data.keys():\n",
    "        for clip in data[key].keys():\n",
    "            fgbg = cv2.createBackgroundSubtractorMOG2(history = 50,varThreshold = 200,) \n",
    "            if not os.path.exists(prim_path+category+\"/clip_\"+str(num)):\n",
    "                os.mkdir(prim_path+category+\"/clip_\"+str(num))\n",
    "            frame_num=0\n",
    "            for frame in data[key][clip]:\n",
    "                img=cv2.resize(cv2.imread(path+\"v_\"+category+\"_\"+key+\"_\"+clip+\".\"+\"0\"*(4-len(str(frame)))+str(frame)+\".jpg\"),(240,320))               \n",
    "                cv2.imwrite(prim_path+category+\"/clip_\"+str(num)+\"/\"+str(frame_num)+\".jpg\",fgbg.apply(img),) \n",
    "                frame_num+=1\n",
    "            num+=1"
   ]
  },
  {
   "cell_type": "code",
   "execution_count": 0,
   "metadata": {
    "colab": {},
    "colab_type": "code",
    "id": "IWIdksjzLyWE"
   },
   "outputs": [],
   "source": [
    "#Processing Data\n",
    "# process_data(data_basketball,\"Basketball\",\"./data/train/action0/\")\n",
    "# process_data(data_diving,\"Diving\",\"./data/train/action5/\")\n",
    "# process_data(val_diving,\"Diving\",\"./data/val/action5/\",0,\"./processed_val_train/\")\n",
    "# process_data(val_basketball,\"Basketball\",\"./data/val/action0/\",0,\"./processed_val_train/\")\n",
    "# process_data(test_diving,\"Diving\",\"./data/test/action5/\",1,\"./processed_val_train/\")\n",
    "# process_data(test_basketball,\"Basketball\",\"./data/test/action0/\",1,\"./processed_val_train/\")"
   ]
  },
  {
   "cell_type": "code",
   "execution_count": 0,
   "metadata": {
    "colab": {},
    "colab_type": "code",
    "id": "lzGm6oe9fsNL"
   },
   "outputs": [],
   "source": [
    "#appending the processed images in a time series\n",
    "\n",
    "def prepare_clip(path,time_frames=10,im_shape=(96,96)):\n",
    "    clip=[]\n",
    "    for i in range(time_frames):\n",
    "        clip.append(cv2.resize(cv2.imread(path+\"/\"+str(i+1)+\".jpg\"),im_shape)/255.)\n",
    "    return clip\n",
    "\n",
    "def prepare_data(path_b=\"./processed_data_train/Basketball/\",\n",
    "                 path_d=\"./processed_data_train/Diving/\",batch_size=32,im_shape=(96,96),time_frames=10):\n",
    "    \n",
    "    list_b=os.listdir(path_b)\n",
    "    list_d=os.listdir(path_d)\n",
    "    np.random.shuffle(list_b)\n",
    "    np.random.shuffle(list_d)\n",
    "    b,d=0,0\n",
    "    \n",
    "    while True:\n",
    "        x=[]\n",
    "        y=[]\n",
    "        if(b>=len(list_b)):\n",
    "            np.random.shuffle(list_b)\n",
    "            b=0\n",
    "        if(d>=len(list_d)):\n",
    "            np.random.shuffle(list_d)\n",
    "            d=0\n",
    "        for i in range(batch_size):\n",
    "            if i%2 == 0:\n",
    "\n",
    "                x.append(prepare_clip(path_b+list_b[b],time_frames=time_frames,im_shape=im_shape))\n",
    "                y.append(0)\n",
    "                b+=1\n",
    "                if(b>=len(list_b)):\n",
    "                    np.random.shuffle(list_b)\n",
    "                    b=0\n",
    "            else:\n",
    "                x.append(prepare_clip(path_d+list_d[d],time_frames=time_frames,im_shape=im_shape))\n",
    "                y.append(1)\n",
    "                d+=1\n",
    "                if(d>=len(list_d)):\n",
    "                    np.random.shuffle(list_d)\n",
    "                    d=0\n",
    "        yield (np.array(x),np.array(y))\n"
   ]
  },
  {
   "cell_type": "code",
   "execution_count": 0,
   "metadata": {
    "colab": {},
    "colab_type": "code",
    "id": "bIVLSNnfGFOk"
   },
   "outputs": [],
   "source": [
    "#CNN-LSTMS Time series model \n",
    "def create_model(input_shape):\n",
    "\n",
    "  L1=Input(shape=input_shape)\n",
    "  L3=TimeDistributed(Conv2D(filters=128,kernel_size=(4,4),strides=1,padding='SAME',activation=\"relu\"))(L1)\n",
    "  L4=TimeDistributed(Conv2D(filters=128,kernel_size=(4,4),strides=1,padding='SAME',activation=\"relu\"))(L3)\n",
    "  L5=TimeDistributed(MaxPool2D(strides=2))(L4)\n",
    "  L6=TimeDistributed(Conv2D(filters=128,kernel_size=(4,4),strides=1,padding='SAME',activation=\"relu\"))(L5)\n",
    "  L7=TimeDistributed(Conv2D(filters=128,kernel_size=(4,4),strides=1,padding='SAME',activation=\"relu\"))(L6)\n",
    "  L8=TimeDistributed(MaxPool2D(strides=2))(L7)\n",
    "  L9=TimeDistributed(Conv2D(filters=128,kernel_size=(3,3),strides=1,padding='SAME',activation=\"relu\"))(L8)\n",
    "  L10=TimeDistributed(Conv2D(filters=64,kernel_size=(3,3),strides=1,padding='SAME',activation=\"relu\"))(L9)\n",
    "  L11=TimeDistributed(MaxPool2D(strides=2))(L10)\n",
    "  L12=TimeDistributed(Conv2D(filters=64,kernel_size=(3,3),strides=1,padding='SAME',activation=\"relu\"))(L11)\n",
    "  L13=TimeDistributed(GlobalAveragePooling2D())(L12)\n",
    "\n",
    "  L15=GRU(128,return_sequences=True)(L13)\n",
    "  L16=GRU(64,return_sequences=True)(L15)\n",
    "\n",
    "  L17=Dense(128,activation=\"relu\")(Dropout(0.25)(Flatten()(L16)))\n",
    "  L18=Dense(64,activation=\"relu\")(L17)\n",
    "  L19=Dense(32,activation=\"relu\")(L18)\n",
    "  L19=Dropout(0.25)(L19)\n",
    "  L20=Dense(1,activation=\"sigmoid\")(L19)\n",
    "\n",
    "\n",
    "  model=ks.models.Model(input=[L1],output=[L20])\n",
    "  model.compile(optimizer=ks.optimizers.Adam(lr=0.0001),\n",
    "                loss='binary_crossentropy',\n",
    "                metrics=['accuracy'])\n",
    "  return model"
   ]
  },
  {
   "cell_type": "code",
   "execution_count": 0,
   "metadata": {
    "colab": {
     "base_uri": "https://localhost:8080/",
     "height": 394
    },
    "colab_type": "code",
    "id": "Fviqa1WKplXd",
    "outputId": "88280637-124b-4d25-cf1e-d9aff9201985"
   },
   "outputs": [
    {
     "name": "stdout",
     "output_type": "stream",
     "text": [
      "WARNING:tensorflow:From /usr/local/lib/python3.6/dist-packages/keras/backend/tensorflow_backend.py:66: The name tf.get_default_graph is deprecated. Please use tf.compat.v1.get_default_graph instead.\n",
      "\n",
      "WARNING:tensorflow:From /usr/local/lib/python3.6/dist-packages/keras/backend/tensorflow_backend.py:541: The name tf.placeholder is deprecated. Please use tf.compat.v1.placeholder instead.\n",
      "\n",
      "WARNING:tensorflow:From /usr/local/lib/python3.6/dist-packages/keras/backend/tensorflow_backend.py:4432: The name tf.random_uniform is deprecated. Please use tf.random.uniform instead.\n",
      "\n",
      "WARNING:tensorflow:From /usr/local/lib/python3.6/dist-packages/keras/backend/tensorflow_backend.py:4267: The name tf.nn.max_pool is deprecated. Please use tf.nn.max_pool2d instead.\n",
      "\n",
      "WARNING:tensorflow:From /usr/local/lib/python3.6/dist-packages/keras/backend/tensorflow_backend.py:148: The name tf.placeholder_with_default is deprecated. Please use tf.compat.v1.placeholder_with_default instead.\n",
      "\n",
      "WARNING:tensorflow:From /usr/local/lib/python3.6/dist-packages/keras/backend/tensorflow_backend.py:3733: calling dropout (from tensorflow.python.ops.nn_ops) with keep_prob is deprecated and will be removed in a future version.\n",
      "Instructions for updating:\n",
      "Please use `rate` instead of `keep_prob`. Rate should be set to `rate = 1 - keep_prob`.\n",
      "WARNING:tensorflow:From /usr/local/lib/python3.6/dist-packages/keras/optimizers.py:793: The name tf.train.Optimizer is deprecated. Please use tf.compat.v1.train.Optimizer instead.\n",
      "\n",
      "WARNING:tensorflow:From /usr/local/lib/python3.6/dist-packages/keras/backend/tensorflow_backend.py:3657: The name tf.log is deprecated. Please use tf.math.log instead.\n",
      "\n",
      "WARNING:tensorflow:From /usr/local/lib/python3.6/dist-packages/tensorflow_core/python/ops/nn_impl.py:183: where (from tensorflow.python.ops.array_ops) is deprecated and will be removed in a future version.\n",
      "Instructions for updating:\n",
      "Use tf.where in 2.0, which has the same broadcast rule as np.where\n"
     ]
    },
    {
     "name": "stderr",
     "output_type": "stream",
     "text": [
      "/usr/local/lib/python3.6/dist-packages/ipykernel_launcher.py:26: UserWarning: Update your `Model` call to the Keras 2 API: `Model(inputs=[<tf.Tenso..., outputs=[<tf.Tenso...)`\n"
     ]
    }
   ],
   "source": [
    "total_data=(len(os.listdir(\"./processed_data_train/Basketball/\"))+len(os.listdir(\"./processed_data_train/Diving/\")))\n",
    "\n",
    "# print(total_data)\n",
    "\n",
    "image_shape=96\n",
    "batch_size=32\n",
    "time_frames=10\n",
    "\n",
    "steps_per_epoch=total_data//batch_size.\n",
    "# print(steps_per_epoch)\n",
    "\n",
    "model=create_model(input_shape=(time_frames,image_shape,image_shape,3))\n",
    "# gen=prepare_data(batch_size=batch_size,im_shape=(image_shape,image_shape),time_frames=time_frames)"
   ]
  },
  {
   "cell_type": "code",
   "execution_count": 0,
   "metadata": {
    "colab": {
     "base_uri": "https://localhost:8080/",
     "height": 34
    },
    "colab_type": "code",
    "id": "7s_akwgbziiH",
    "outputId": "a59259c6-0e37-4369-ca32-df15151fda1a"
   },
   "outputs": [
    {
     "data": {
      "text/plain": [
       "63"
      ]
     },
     "execution_count": 142,
     "metadata": {
      "tags": []
     },
     "output_type": "execute_result"
    }
   ],
   "source": [
    "total_data_val=(len(os.listdir(\"./processed_val_train/Basketball/\"))+len(os.listdir(\"./processed_val_train/Diving/\")))\n",
    "total_data_val"
   ]
  },
  {
   "cell_type": "code",
   "execution_count": 0,
   "metadata": {
    "colab": {},
    "colab_type": "code",
    "id": "pghut51dzfWv"
   },
   "outputs": [],
   "source": [
    "#getting val_data\n",
    "val_data=next(prepare_data(path_b=\"./processed_val_train/Basketball/\",\n",
    "                 path_d=\"./processed_val_train/Diving/\",\n",
    "                 batch_size=total_data_val,\n",
    "                im_shape=(image_shape,image_shape),\n",
    "                time_frames=time_frames))"
   ]
  },
  {
   "cell_type": "code",
   "execution_count": 0,
   "metadata": {
    "colab": {
     "base_uri": "https://localhost:8080/",
     "height": 204
    },
    "colab_type": "code",
    "id": "RlchqLcdhGQx",
    "outputId": "5c0460ef-f7bc-4bc6-da03-5497d8998f62"
   },
   "outputs": [
    {
     "name": "stdout",
     "output_type": "stream",
     "text": [
      "Epoch 1/5\n",
      "6/6 [==============================] - 21s 4s/step - loss: 0.4272 - acc: 0.7969 - val_loss: 0.4821 - val_acc: 0.8254\n",
      "Epoch 2/5\n",
      "6/6 [==============================] - 18s 3s/step - loss: 0.5596 - acc: 0.7448 - val_loss: 0.7622 - val_acc: 0.6825\n",
      "Epoch 3/5\n",
      "6/6 [==============================] - 18s 3s/step - loss: 0.5248 - acc: 0.7344 - val_loss: 0.5110 - val_acc: 0.7778\n",
      "Epoch 4/5\n",
      "6/6 [==============================] - 18s 3s/step - loss: 0.4520 - acc: 0.7812 - val_loss: 0.5172 - val_acc: 0.7778\n",
      "Epoch 5/5\n",
      "6/6 [==============================] - 18s 3s/step - loss: 0.4726 - acc: 0.7656 - val_loss: 0.5206 - val_acc: 0.7778\n"
     ]
    },
    {
     "data": {
      "text/plain": [
       "<keras.callbacks.History at 0x7fd248806198>"
      ]
     },
     "execution_count": 144,
     "metadata": {
      "tags": []
     },
     "output_type": "execute_result"
    }
   ],
   "source": [
    "#training\n",
    "model.fit_generator(gen,steps_per_epoch=steps_per_epoch,epochs=5,validation_data=val_data,)"
   ]
  },
  {
   "cell_type": "code",
   "execution_count": 0,
   "metadata": {
    "colab": {},
    "colab_type": "code",
    "id": "0ogf4e8ke9rA"
   },
   "outputs": [],
   "source": []
  }
 ],
 "metadata": {
  "accelerator": "GPU",
  "colab": {
   "collapsed_sections": [],
   "name": "action_class.ipynb",
   "provenance": []
  },
  "kernelspec": {
   "display_name": "Python 3",
   "language": "python",
   "name": "python3"
  },
  "language_info": {
   "codemirror_mode": {
    "name": "ipython",
    "version": 3
   },
   "file_extension": ".py",
   "mimetype": "text/x-python",
   "name": "python",
   "nbconvert_exporter": "python",
   "pygments_lexer": "ipython3",
   "version": "3.6.8"
  }
 },
 "nbformat": 4,
 "nbformat_minor": 1
}
